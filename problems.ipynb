{
 "cells": [
  {
   "cell_type": "code",
   "execution_count": 1,
   "metadata": {},
   "outputs": [],
   "source": [
    "import Prelude\n",
    "import Data.Fixed"
   ]
  },
  {
   "cell_type": "code",
   "execution_count": 2,
   "metadata": {},
   "outputs": [
    {
     "data": {
      "text/plain": [
       "233168"
      ]
     },
     "metadata": {},
     "output_type": "display_data"
    }
   ],
   "source": [
    "--1\n",
    "p1 :: [Int]\n",
    "p1 = [x | x <- [1..], mod x 3 == 0 || mod x 5 == 0]\n",
    "\n",
    "sum $ takeWhile (<1000) p1"
   ]
  },
  {
   "cell_type": "code",
   "execution_count": 3,
   "metadata": {},
   "outputs": [
    {
     "data": {
      "text/plain": [
       "4613732"
      ]
     },
     "metadata": {},
     "output_type": "display_data"
    }
   ],
   "source": [
    "--2\n",
    "fib :: [Int]\n",
    "fib = 0 : go 0 1\n",
    "  where go a b = b : go b (a+b)\n",
    "  \n",
    "sum $ filter even $ takeWhile (<4000000) fib"
   ]
  },
  {
   "cell_type": "code",
   "execution_count": 4,
   "metadata": {},
   "outputs": [
    {
     "data": {
      "text/plain": [
       "6857"
      ]
     },
     "metadata": {},
     "output_type": "display_data"
    }
   ],
   "source": [
    "--3\n",
    "p3 :: Int -> Int\n",
    "p3 n = go n 0 2\n",
    "    where\n",
    "        go n r c\n",
    "            | c*c <= n = if mod n c == 0 then go (div n c) c c else go n r (c+1)\n",
    "            | otherwise = if n > r then n else r            \n",
    "\n",
    "p3 600851475143"
   ]
  },
  {
   "cell_type": "code",
   "execution_count": 5,
   "metadata": {},
   "outputs": [
    {
     "data": {
      "text/plain": [
       "906609"
      ]
     },
     "metadata": {},
     "output_type": "display_data"
    }
   ],
   "source": [
    "--4\n",
    "p4 :: Int -> Int\n",
    "p4 = go 0\n",
    "    where \n",
    "        go a b\n",
    "            | b == 0 = a\n",
    "            | otherwise = let (q,r) = quotRem b 10 in go (a*10 + r) q\n",
    "        \n",
    "maximum $ filter (\\x -> x == p4 x) [x*y | x <- [100..999], y <-[100..999]]"
   ]
  },
  {
   "cell_type": "code",
   "execution_count": 4,
   "metadata": {},
   "outputs": [
    {
     "data": {
      "text/plain": [
       "232792560"
      ]
     },
     "metadata": {},
     "output_type": "display_data"
    }
   ],
   "source": [
    "--5\n",
    "p5 :: Int -> Int\n",
    "p5 m = go m 1 20\n",
    "    where\n",
    "        go m a b\n",
    "            | b == 0 = a\n",
    "            | otherwise = if mod a b == 0 then go m a (b-1) else go m (a+1) m\n",
    "\n",
    "p5 20"
   ]
  },
  {
   "cell_type": "code",
   "execution_count": 58,
   "metadata": {},
   "outputs": [
    {
     "data": {
      "text/plain": [
       "25164150"
      ]
     },
     "metadata": {},
     "output_type": "display_data"
    }
   ],
   "source": [
    "--6\n",
    "p6 = pow2 (sum [1..100]) - sum (map pow2 [1..100])\n",
    "    where\n",
    "        pow2 x = x*x\n",
    "        \n",
    "p6"
   ]
  },
  {
   "cell_type": "code",
   "execution_count": null,
   "metadata": {},
   "outputs": [],
   "source": []
  }
 ],
 "metadata": {
  "kernelspec": {
   "display_name": "Haskell",
   "language": "haskell",
   "name": "haskell"
  },
  "language_info": {
   "codemirror_mode": "ihaskell",
   "file_extension": ".hs",
   "mimetype": "text/x-haskell",
   "name": "haskell",
   "pygments_lexer": "Haskell",
   "version": "8.6.5"
  }
 },
 "nbformat": 4,
 "nbformat_minor": 4
}
